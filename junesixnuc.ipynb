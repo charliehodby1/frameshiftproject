{
 "cells": [
  {
   "cell_type": "code",
   "execution_count": 2,
   "metadata": {
    "collapsed": false
   },
   "outputs": [
    {
     "name": "stdout",
     "output_type": "stream",
     "text": [
      " AGGCAATTT\n",
      "4.09913182258606\n"
     ]
    }
   ],
   "source": [
    "import time\n",
    "\n",
    "t = time.time()\n",
    "\n",
    "with open('entiregenome.txt', 'r') as file:\n",
    "    seq = ''\n",
    "    for line in file.readlines():\n",
    "        if line[0] != '>':\n",
    "            seq = seq + line.strip()\n",
    "        else:\n",
    "            seq = seq + ' '\n",
    "            \n",
    "\n",
    "print(seq[0:10])\n",
    "            \n",
    "print(time.time() - t)\n",
    "\n"
   ]
  },
  {
   "cell_type": "code",
   "execution_count": 3,
   "metadata": {
    "collapsed": false
   },
   "outputs": [
    {
     "name": "stdout",
     "output_type": "stream",
     "text": [
      "AGGCAATTTT\n",
      "4.591284990310669\n"
     ]
    }
   ],
   "source": [
    "t=time.time()\n",
    "with open('entiregenome.txt','r') as g:\n",
    "    G=g.read()\n",
    "\n",
    "G0 = G.split('>')[1:]\n",
    "g= range(len(G0))\n",
    "G1 = [G0[i].split('\\n') for i in g]\n",
    "G2 = [''.join(G1[i][1:]) for i in g]\n",
    "G3 = ' '.join(G2)\n",
    "print (G3[:10])\n",
    "print(time.time()-t)"
   ]
  },
  {
   "cell_type": "code",
   "execution_count": 1,
   "metadata": {
    "collapsed": false
   },
   "outputs": [
    {
     "ename": "NameError",
     "evalue": "name 'seq1' is not defined",
     "output_type": "error",
     "traceback": [
      "\u001b[0;31m---------------------------------------------------------------------------\u001b[0m",
      "\u001b[0;31mNameError\u001b[0m                                 Traceback (most recent call last)",
      "\u001b[0;32m<ipython-input-1-fe24646b6e3e>\u001b[0m in \u001b[0;36m<module>\u001b[0;34m()\u001b[0m\n\u001b[1;32m     22\u001b[0m \u001b[0mgenome_counter\u001b[0m \u001b[0;34m=\u001b[0m \u001b[0mmake_count\u001b[0m\u001b[0;34m(\u001b[0m\u001b[0mgenome_file_names\u001b[0m\u001b[0;34m)\u001b[0m\u001b[0;34m\u001b[0m\u001b[0m\n\u001b[1;32m     23\u001b[0m \u001b[0;34m\u001b[0m\u001b[0m\n\u001b[0;32m---> 24\u001b[0;31m \u001b[0mprint\u001b[0m\u001b[0;34m(\u001b[0m\u001b[0mseq1\u001b[0m\u001b[0;34m[\u001b[0m\u001b[0;36m0\u001b[0m\u001b[0;34m:\u001b[0m\u001b[0;36m10\u001b[0m\u001b[0;34m]\u001b[0m\u001b[0;34m)\u001b[0m\u001b[0;34m\u001b[0m\u001b[0m\n\u001b[0m",
      "\u001b[0;31mNameError\u001b[0m: name 'seq1' is not defined"
     ]
    }
   ],
   "source": []
  },
  {
   "cell_type": "code",
   "execution_count": null,
   "metadata": {
    "collapsed": false
   },
   "outputs": [],
   "source": [
    "codons = list(cancer_counter.keys())\n",
    "\n",
    "for c in codons:\n",
    "    c_mut_count = cancer_counter[c]\n",
    "    c_all_count = sum(cancer_counter.values())\n",
    "    c_other_count = c_all_count - c_mut_count\n",
    "    print(),\n",
    "    \n",
    "    \n",
    "    g_mut_count = genome_counter[c]\n",
    "    g_all_count = sum(genome_counter.values())\n",
    "    g_other_count = g_all_count - g_mut_count\n",
    "    \n",
    "    oddsratio, pvalue = stats.fisher_exact([[c_mut_count, c_other_count], [g_mut_count, g_other_count]])\n",
    "    \n",
    "    print(c, c_mut_count, c_other_count, g_mut_count, g_other_count, pvalue)"
   ]
  },
  {
   "cell_type": "code",
   "execution_count": null,
   "metadata": {
    "collapsed": true
   },
   "outputs": [],
   "source": []
  },
  {
   "cell_type": "code",
   "execution_count": null,
   "metadata": {
    "collapsed": false
   },
   "outputs": [],
   "source": [
    "small = G[:10000]"
   ]
  },
  {
   "cell_type": "code",
   "execution_count": null,
   "metadata": {
    "collapsed": false
   },
   "outputs": [],
   "source": [
    "s=small.split('>')\n",
    "s1=s[1].split('\\n')"
   ]
  },
  {
   "cell_type": "code",
   "execution_count": null,
   "metadata": {
    "collapsed": false
   },
   "outputs": [],
   "source": [
    "sequence = ''.join(s1[1:])"
   ]
  },
  {
   "cell_type": "code",
   "execution_count": null,
   "metadata": {
    "collapsed": false
   },
   "outputs": [],
   "source": [
    "\"\"\"from collections import Counter\n",
    "\n",
    "codonlist = []\n",
    "counter = {}\n",
    "\n",
    "for codonpair in seq:\n",
    "    while len(codonpair) >= 6:\n",
    "        codonlist.append(codonpair[0:6])\n",
    "        codonpair = codonpair[1:]\n",
    "\n",
    "for c in codonlist:\n",
    "    counter[c] = counter.get(c,0) + 1\n",
    "    \n",
    "print(codonlist)\"\"\""
   ]
  },
  {
   "cell_type": "code",
   "execution_count": 4,
   "metadata": {
    "collapsed": false
   },
   "outputs": [
    {
     "ename": "IndentationError",
     "evalue": "unexpected indent (<ipython-input-4-bfcb0b92fb6c>, line 4)",
     "output_type": "error",
     "traceback": [
      "\u001b[0;36m  File \u001b[0;32m\"<ipython-input-4-bfcb0b92fb6c>\"\u001b[0;36m, line \u001b[0;32m4\u001b[0m\n\u001b[0;31m    for n in range(len(seq1)-5):\u001b[0m\n\u001b[0m    ^\u001b[0m\n\u001b[0;31mIndentationError\u001b[0m\u001b[0;31m:\u001b[0m unexpected indent\n"
     ]
    }
   ],
   "source": [
    "codonlist = []\n",
    "counter = {}\n",
    "\n",
    "for n in range(len(seq1)-5):\n",
    "    codonlist.append(seq1[n:n+6])\n",
    "\n",
    "for c in codonlist:\n",
    "    counter[c] = counter.get(c,0) + 1\n",
    "print(counter)"
   ]
  },
  {
   "cell_type": "code",
   "execution_count": null,
   "metadata": {
    "collapsed": false
   },
   "outputs": [],
   "source": []
  },
  {
   "cell_type": "code",
   "execution_count": null,
   "metadata": {
    "collapsed": true
   },
   "outputs": [],
   "source": [
    "\"\"\"codonlist = []\n",
    "counter = {}\n",
    "\n",
    "for n in range(len(G3)-5):\n",
    "    codonlist.append(G3[n:n+6])\n",
    "\n",
    "for c in codonlist:\n",
    "    counter[c] = counter.get(c,0) + 1\n",
    "\n",
    "print(counter)\"\"\""
   ]
  },
  {
   "cell_type": "code",
   "execution_count": null,
   "metadata": {
    "collapsed": true
   },
   "outputs": [],
   "source": [
    "\"\"\"def make_count(file_names):\n",
    "\n",
    "    counts = {}\n",
    "    for file in file_names:        \n",
    "        with open(file,'r') as f:\n",
    "            F = f.read()\n",
    "        F1= F.split('\\n')\n",
    "        keys = (set(F1))    \n",
    "        for k in keys:\n",
    "            if k in counts.keys():\n",
    "                counts[k]+=F1.count(k)\n",
    "            else:\n",
    "                counts[k]=F1.count(k)\n",
    "    return counts\"\"\"\n"
   ]
  },
  {
   "cell_type": "code",
   "execution_count": null,
   "metadata": {
    "collapsed": true
   },
   "outputs": [],
   "source": []
  }
 ],
 "metadata": {
  "kernelspec": {
   "display_name": "Python 3",
   "language": "python",
   "name": "python3"
  },
  "language_info": {
   "codemirror_mode": {
    "name": "ipython",
    "version": 3
   },
   "file_extension": ".py",
   "mimetype": "text/x-python",
   "name": "python",
   "nbconvert_exporter": "python",
   "pygments_lexer": "ipython3",
   "version": "3.6.0"
  }
 },
 "nbformat": 4,
 "nbformat_minor": 2
}
