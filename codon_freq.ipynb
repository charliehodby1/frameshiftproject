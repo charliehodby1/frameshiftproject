{
 "cells": [
  {
   "cell_type": "code",
   "execution_count": 1,
   "metadata": {
    "collapsed": false,
    "scrolled": true
   },
   "outputs": [
    {
     "data": {
      "text/plain": [
       "Counter({' un': 113014,\n",
       "         'AAA': 2387802,\n",
       "         'AAC': 1542209,\n",
       "         'AAG': 2587355,\n",
       "         'AAT': 1424055,\n",
       "         'ACA': 2048249,\n",
       "         'ACC': 1923433,\n",
       "         'ACG': 767950,\n",
       "         'ACT': 1499115,\n",
       "         'AGA': 2779341,\n",
       "         'AGC': 2398006,\n",
       "         'AGG': 2288989,\n",
       "         'AGT': 1506432,\n",
       "         'ANC': 1,\n",
       "         'ANT': 1,\n",
       "         'ATA': 883146,\n",
       "         'ATC': 1518351,\n",
       "         'ATG': 2101329,\n",
       "         'ATT': 1313422,\n",
       "         'CAA': 2093251,\n",
       "         'CAC': 1902406,\n",
       "         'CAG': 3276982,\n",
       "         'CAN': 1,\n",
       "         'CAT': 1705543,\n",
       "         'CCA': 2725713,\n",
       "         'CCC': 2362100,\n",
       "         'CCG': 1144104,\n",
       "         'CCT': 2470886,\n",
       "         'CGA': 812264,\n",
       "         'CGC': 957647,\n",
       "         'CGG': 1143140,\n",
       "         'CGT': 621991,\n",
       "         'CTA': 1001037,\n",
       "         'CTC': 2023475,\n",
       "         'CTG': 3184073,\n",
       "         'CTT': 1729986,\n",
       "         'GAA': 2623197,\n",
       "         'GAC': 1740982,\n",
       "         'GAG': 2630827,\n",
       "         'GAN': 1,\n",
       "         'GAT': 1602959,\n",
       "         'GCA': 2145060,\n",
       "         'GCC': 2425632,\n",
       "         'GCG': 943187,\n",
       "         'GCT': 2165759,\n",
       "         'GGA': 2689332,\n",
       "         'GGC': 2202785,\n",
       "         'GGG': 1894825,\n",
       "         'GGT': 1290379,\n",
       "         'GTA': 737306,\n",
       "         'GTC': 1265221,\n",
       "         'GTG': 2037132,\n",
       "         'GTT': 1078436,\n",
       "         'NAA': 406,\n",
       "         'NAC': 407,\n",
       "         'NAG': 725,\n",
       "         'NAT': 387,\n",
       "         'NCA': 591,\n",
       "         'NCC': 561,\n",
       "         'NCG': 299,\n",
       "         'NCT': 566,\n",
       "         'NGA': 642,\n",
       "         'NGC': 620,\n",
       "         'NGG': 806,\n",
       "         'NGT': 492,\n",
       "         'NNA': 694,\n",
       "         'NNC': 1044,\n",
       "         'NNG': 1445,\n",
       "         'NNT': 649,\n",
       "         'NTA': 205,\n",
       "         'NTC': 323,\n",
       "         'NTG': 662,\n",
       "         'NTT': 330,\n",
       "         'Seq': 113014,\n",
       "         'TAA': 817299,\n",
       "         'TAC': 1085767,\n",
       "         'TAG': 593617,\n",
       "         'TAT': 994424,\n",
       "         'TCA': 2039823,\n",
       "         'TCC': 2031164,\n",
       "         'TCG': 663033,\n",
       "         'TCT': 1784370,\n",
       "         'TGA': 2201319,\n",
       "         'TGC': 2108177,\n",
       "         'TGG': 2724269,\n",
       "         'TGT': 1659369,\n",
       "         'TTA': 873611,\n",
       "         'TTC': 1753250,\n",
       "         'TTG': 1491652,\n",
       "         'TTT': 1517689,\n",
       "         'abl': 113014,\n",
       "         'ail': 113014,\n",
       "         'ava': 113014,\n",
       "         'ble': 113014,\n",
       "         'ce ': 113014,\n",
       "         'e u': 113014,\n",
       "         'enc': 113014,\n",
       "         'equ': 113014,\n",
       "         'ila': 113014,\n",
       "         'lab': 113014,\n",
       "         'nav': 113014,\n",
       "         'nce': 113014,\n",
       "         'que': 113014,\n",
       "         'uen': 113014,\n",
       "         'una': 113014,\n",
       "         'vai': 113014})"
      ]
     },
     "execution_count": 1,
     "metadata": {},
     "output_type": "execute_result"
    }
   ],
   "source": [
    "from collections import Counter\n",
    "import matplotlib.pyplot as plt\n",
    "import numpy as np\n",
    "\n",
    "with open('genomeseq.txt','r') as file:\n",
    "\n",
    "    f = file.readlines()\n",
    "\n",
    "codonlist = []\n",
    "\n",
    "for line in f:\n",
    "    if line[0] != '>': # Beware if the line has no first charchter\n",
    "           while len(line) > 3: \n",
    "               codonlist.append(line[0:3])\n",
    "               line = line[1:]\n",
    "\n",
    "frequency = Counter(codonlist)\n",
    "frequency\n"
   ]
  },
  {
   "cell_type": "code",
   "execution_count": 3,
   "metadata": {
    "collapsed": false
   },
   "outputs": [
    {
     "name": "stdout",
     "output_type": "stream",
     "text": [
      "Counter({'CAG': 3276982, 'CTG': 3184073, 'AGA': 2779341, 'CCA': 2725713, 'TGG': 2724269, 'GGA': 2689332, 'GAG': 2630827, 'GAA': 2623197, 'AAG': 2587355, 'CCT': 2470886, 'GCC': 2425632, 'AGC': 2398006, 'AAA': 2387802, 'CCC': 2362100, 'AGG': 2288989, 'GGC': 2202785, 'TGA': 2201319, 'GCT': 2165759, 'GCA': 2145060, 'TGC': 2108177, 'ATG': 2101329, 'CAA': 2093251, 'ACA': 2048249, 'TCA': 2039823, 'GTG': 2037132, 'TCC': 2031164, 'CTC': 2023475, 'ACC': 1923433, 'CAC': 1902406, 'GGG': 1894825, 'TCT': 1784370, 'TTC': 1753250, 'GAC': 1740982, 'CTT': 1729986, 'CAT': 1705543, 'TGT': 1659369, 'GAT': 1602959, 'AAC': 1542209, 'ATC': 1518351, 'TTT': 1517689, 'AGT': 1506432, 'ACT': 1499115, 'TTG': 1491652, 'AAT': 1424055, 'ATT': 1313422, 'GGT': 1290379, 'GTC': 1265221, 'CCG': 1144104, 'CGG': 1143140, 'TAC': 1085767, 'GTT': 1078436, 'CTA': 1001037, 'TAT': 994424, 'CGC': 957647, 'GCG': 943187, 'ATA': 883146, 'TTA': 873611, 'TAA': 817299, 'CGA': 812264, 'ACG': 767950, 'GTA': 737306, 'TCG': 663033, 'CGT': 621991, 'TAG': 593617, 'Seq': 113014, 'equ': 113014, 'que': 113014, 'uen': 113014, 'enc': 113014, 'nce': 113014, 'ce ': 113014, 'e u': 113014, ' un': 113014, 'una': 113014, 'nav': 113014, 'ava': 113014, 'vai': 113014, 'ail': 113014, 'ila': 113014, 'lab': 113014, 'abl': 113014, 'ble': 113014, 'NNG': 1445, 'NNC': 1044, 'NGG': 806, 'NAG': 725, 'NNA': 694, 'NTG': 662, 'NNT': 649, 'NGA': 642, 'NGC': 620, 'NCA': 591, 'NCT': 566, 'NCC': 561, 'NGT': 492, 'NAC': 407, 'NAA': 406, 'NAT': 387, 'NTT': 330, 'NTC': 323, 'NCG': 299, 'NTA': 205, 'GAN': 1, 'ANC': 1, 'CAN': 1, 'ANT': 1})\n"
     ]
    }
   ],
   "source": [
    "print (frequency)"
   ]
  },
  {
   "cell_type": "code",
   "execution_count": 4,
   "metadata": {
    "collapsed": false
   },
   "outputs": [],
   "source": [
    "plt.figure(figsize=(30,10))\n",
    "plt.bar(range(0, len(frequency.values())), list(frequency.values()))\n",
    "plt.xticks(range(0, len(frequency.values())), list(frequency.keys()))\n",
    "plt.savefig('hist.png')\n"
   ]
  },
  {
   "cell_type": "code",
   "execution_count": null,
   "metadata": {
    "collapsed": false
   },
   "outputs": [],
   "source": [
    "\n",
    "\n",
    "dict.get('aaa', 0) + 1\n",
    "\n",
    "def backwards(s):\n",
    "    return(s[::-1])\n",
    "\n",
    "\n",
    "print(backwards('Hi Charlie'))"
   ]
  },
  {
   "cell_type": "code",
   "execution_count": null,
   "metadata": {
    "collapsed": false
   },
   "outputs": [],
   "source": [
    "plt.hist(list(frequency.values()))\n",
    "plt.show()"
   ]
  },
  {
   "cell_type": "code",
   "execution_count": null,
   "metadata": {
    "collapsed": true
   },
   "outputs": [],
   "source": []
  }
 ],
 "metadata": {
  "kernelspec": {
   "display_name": "Python 3",
   "language": "python",
   "name": "python3"
  },
  "language_info": {
   "codemirror_mode": {
    "name": "ipython",
    "version": 3
   },
   "file_extension": ".py",
   "mimetype": "text/x-python",
   "name": "python",
   "nbconvert_exporter": "python",
   "pygments_lexer": "ipython3",
   "version": "3.6.0"
  }
 },
 "nbformat": 4,
 "nbformat_minor": 2
}
